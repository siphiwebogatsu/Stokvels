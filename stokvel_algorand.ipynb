{
 "cells": [
  {
   "cell_type": "code",
   "execution_count": 44,
   "metadata": {},
   "outputs": [],
   "source": [
    "import json, time, random\n",
    "\n",
    "from typing import Dict, Any\n",
    "from base64 import b64decode\n",
    "\n",
    "from algosdk import account, transaction, mnemonic\n",
    "from algosdk.v2client import algod"
   ]
  },
  {
   "cell_type": "markdown",
   "metadata": {},
   "source": [
    "### Connect Algorand Testnet"
   ]
  },
  {
   "cell_type": "code",
   "execution_count": 45,
   "metadata": {},
   "outputs": [],
   "source": [
    "# setup algod client\n",
    "algod_address = \"https://testnet-api.algonode.cloud\"\n",
    "algod_token = \"\"\n",
    "\n",
    "algod_client = algod.AlgodClient(algod_token, algod_address)"
   ]
  },
  {
   "cell_type": "markdown",
   "metadata": {},
   "source": [
    "### Create accounts for  5 stokvel members "
   ]
  },
  {
   "cell_type": "code",
   "execution_count": 46,
   "metadata": {},
   "outputs": [
    {
     "name": "stdout",
     "output_type": "stream",
     "text": [
      "Account 1 Base64 encoded private key: pCsF2+T2zcq1gKvmmOah3wC3eLIG3mNMvhfd1KPuBv1zkqccz5T2ZifjP6afLvfZgQe59DgVCG1aYgaxAfFApQ==\n",
      "Account 1 Address: OOJKOHGPST3GMJ7DH6TJ6LXX3GAQPOPUHAKQQ3K2MIDLCAPRICS6YD5TDM\n",
      "Account 2 Base64 encoded private key: aqpkEromuU1/UyLMNiOjNOCiisIKPuaMfEEQUcxkkaDt8h2Uji/yeTMJGw6AHhf3fU1AEDG5+eJsJAn19sN+jw==\n",
      "Account 2 Address: 5XZB3FEOF7ZHSMYJDMHIAHQX656U2QAQGG47TYTMEQE7L5WDP2H52FO7GM\n",
      "Account 3 Base64 encoded private key: KToL0Wyt4xSXK4t/DVYaNRGAJe5aaju6oIcVSh+ljWY9jDGpUWPmAdIxEsLDTlw4rFaZA7CLksKfCApT9BTUeQ==\n",
      "Account 3 Address: HWGDDKKRMPTADURRCLBMGTS4HCWFNGIDWCFZFQU7BAFFH5AU2R4W6B6V6Y\n",
      "Account 4 Base64 encoded private key: m/WVr+30hrjpjkI657tID/kWLtcvU8nOTLZf6DMx08qvB+7hW5TSWwrzBqx4PrAYgUUwJxpZHkaC78DkvxtMRg==\n",
      "Account 4 Address: V4D65YK3STJFWCXTA2WHQPVQDCAUKMBHDJMR4RUC57AOJPY3JRDMEKH2SE\n",
      "Account 5 Base64 encoded private key: xOPdArPe21knX2Ov30cRR5VvHczT+Iqju90TgiDwSNE6pfwDl4RZFdeLP5jXJGwUI0kovidJlXeLsmD78WGcBw==\n",
      "Account 5 Address: HKS7YA4XQRMRLV4LH6MNOJDMCQRUSKF6E5EZK54LWJQPX4LBTQD5QZUUKA\n"
     ]
    }
   ],
   "source": [
    "account_1_private_key, account_1_address = account.generate_account()\n",
    "account_2_private_key, account_2_address = account.generate_account()\n",
    "account_3_private_key, account_3_address = account.generate_account()\n",
    "account_4_private_key, account_4_address = account.generate_account()\n",
    "account_5_private_key, account_5_address = account.generate_account()\n",
    "\n",
    "# Account 1 \n",
    "print(f\"Account 1 Base64 encoded private key: {account_1_private_key}\")\n",
    "print(f\"Account 1 Address: {account_1_address}\")\n",
    "\n",
    "# Account 2\n",
    "print(f\"Account 2 Base64 encoded private key: {account_2_private_key}\")\n",
    "print(f\"Account 2 Address: {account_2_address}\")\n",
    "\n",
    "# Account 3 \n",
    "print(f\"Account 3 Base64 encoded private key: {account_3_private_key}\")\n",
    "print(f\"Account 3 Address: {account_3_address}\")\n",
    "\n",
    "# Account 4 \n",
    "print(f\"Account 4 Base64 encoded private key: {account_4_private_key}\")\n",
    "print(f\"Account 4 Address: {account_4_address}\")\n",
    "\n",
    "# Account 5 \n",
    "print(f\"Account 5 Base64 encoded private key: {account_5_private_key}\")\n",
    "print(f\"Account 5 Address: {account_5_address}\")"
   ]
  },
  {
   "cell_type": "markdown",
   "metadata": {},
   "source": [
    "### Fund the accounts with enough Algos each. 25 Algos can do. "
   ]
  },
  {
   "cell_type": "code",
   "execution_count": 58,
   "metadata": {},
   "outputs": [
    {
     "ename": "KeyboardInterrupt",
     "evalue": "Interrupted by user",
     "output_type": "error",
     "traceback": [
      "\u001b[1;31m---------------------------------------------------------------------------\u001b[0m",
      "\u001b[1;31mKeyboardInterrupt\u001b[0m                         Traceback (most recent call last)",
      "Cell \u001b[1;32mIn[58], line 1\u001b[0m\n\u001b[1;32m----> 1\u001b[0m user_input \u001b[38;5;241m=\u001b[39m \u001b[38;5;28;43minput\u001b[39;49m\u001b[43m(\u001b[49m\n\u001b[0;32m      2\u001b[0m \u001b[43m    \u001b[49m\u001b[38;5;124;43m\"\u001b[39;49m\u001b[38;5;124;43mNow go to Algorand testnet dispenser (https://dispenser.testnet.aws.algodev.network/) and fund stokvel accounts, then return and press enter. \u001b[39;49m\u001b[38;5;124;43m\"\u001b[39;49m\n\u001b[0;32m      3\u001b[0m \u001b[43m)\u001b[49m\n",
      "File \u001b[1;32m~\\AppData\\Roaming\\Python\\Python311\\site-packages\\ipykernel\\kernelbase.py:1175\u001b[0m, in \u001b[0;36mKernel.raw_input\u001b[1;34m(self, prompt)\u001b[0m\n\u001b[0;32m   1171\u001b[0m \u001b[38;5;28;01mif\u001b[39;00m \u001b[38;5;129;01mnot\u001b[39;00m \u001b[38;5;28mself\u001b[39m\u001b[38;5;241m.\u001b[39m_allow_stdin:\n\u001b[0;32m   1172\u001b[0m     \u001b[38;5;28;01mraise\u001b[39;00m StdinNotImplementedError(\n\u001b[0;32m   1173\u001b[0m         \u001b[38;5;124m\"\u001b[39m\u001b[38;5;124mraw_input was called, but this frontend does not support input requests.\u001b[39m\u001b[38;5;124m\"\u001b[39m\n\u001b[0;32m   1174\u001b[0m     )\n\u001b[1;32m-> 1175\u001b[0m \u001b[38;5;28;01mreturn\u001b[39;00m \u001b[38;5;28;43mself\u001b[39;49m\u001b[38;5;241;43m.\u001b[39;49m\u001b[43m_input_request\u001b[49m\u001b[43m(\u001b[49m\n\u001b[0;32m   1176\u001b[0m \u001b[43m    \u001b[49m\u001b[38;5;28;43mstr\u001b[39;49m\u001b[43m(\u001b[49m\u001b[43mprompt\u001b[49m\u001b[43m)\u001b[49m\u001b[43m,\u001b[49m\n\u001b[0;32m   1177\u001b[0m \u001b[43m    \u001b[49m\u001b[38;5;28;43mself\u001b[39;49m\u001b[38;5;241;43m.\u001b[39;49m\u001b[43m_parent_ident\u001b[49m\u001b[43m[\u001b[49m\u001b[38;5;124;43m\"\u001b[39;49m\u001b[38;5;124;43mshell\u001b[39;49m\u001b[38;5;124;43m\"\u001b[39;49m\u001b[43m]\u001b[49m\u001b[43m,\u001b[49m\n\u001b[0;32m   1178\u001b[0m \u001b[43m    \u001b[49m\u001b[38;5;28;43mself\u001b[39;49m\u001b[38;5;241;43m.\u001b[39;49m\u001b[43mget_parent\u001b[49m\u001b[43m(\u001b[49m\u001b[38;5;124;43m\"\u001b[39;49m\u001b[38;5;124;43mshell\u001b[39;49m\u001b[38;5;124;43m\"\u001b[39;49m\u001b[43m)\u001b[49m\u001b[43m,\u001b[49m\n\u001b[0;32m   1179\u001b[0m \u001b[43m    \u001b[49m\u001b[43mpassword\u001b[49m\u001b[38;5;241;43m=\u001b[39;49m\u001b[38;5;28;43;01mFalse\u001b[39;49;00m\u001b[43m,\u001b[49m\n\u001b[0;32m   1180\u001b[0m \u001b[43m\u001b[49m\u001b[43m)\u001b[49m\n",
      "File \u001b[1;32m~\\AppData\\Roaming\\Python\\Python311\\site-packages\\ipykernel\\kernelbase.py:1217\u001b[0m, in \u001b[0;36mKernel._input_request\u001b[1;34m(self, prompt, ident, parent, password)\u001b[0m\n\u001b[0;32m   1214\u001b[0m             \u001b[38;5;28;01mbreak\u001b[39;00m\n\u001b[0;32m   1215\u001b[0m \u001b[38;5;28;01mexcept\u001b[39;00m \u001b[38;5;167;01mKeyboardInterrupt\u001b[39;00m:\n\u001b[0;32m   1216\u001b[0m     \u001b[38;5;66;03m# re-raise KeyboardInterrupt, to truncate traceback\u001b[39;00m\n\u001b[1;32m-> 1217\u001b[0m     \u001b[38;5;28;01mraise\u001b[39;00m \u001b[38;5;167;01mKeyboardInterrupt\u001b[39;00m(\u001b[38;5;124m\"\u001b[39m\u001b[38;5;124mInterrupted by user\u001b[39m\u001b[38;5;124m\"\u001b[39m) \u001b[38;5;28;01mfrom\u001b[39;00m \u001b[38;5;28mNone\u001b[39m\n\u001b[0;32m   1218\u001b[0m \u001b[38;5;28;01mexcept\u001b[39;00m \u001b[38;5;167;01mException\u001b[39;00m:\n\u001b[0;32m   1219\u001b[0m     \u001b[38;5;28mself\u001b[39m\u001b[38;5;241m.\u001b[39mlog\u001b[38;5;241m.\u001b[39mwarning(\u001b[38;5;124m\"\u001b[39m\u001b[38;5;124mInvalid Message:\u001b[39m\u001b[38;5;124m\"\u001b[39m, exc_info\u001b[38;5;241m=\u001b[39m\u001b[38;5;28;01mTrue\u001b[39;00m)\n",
      "\u001b[1;31mKeyboardInterrupt\u001b[0m: Interrupted by user"
     ]
    }
   ],
   "source": [
    "user_input = input(\n",
    "    \"Now go to Algorand testnet dispenser (https://dispenser.testnet.aws.algodev.network/) and fund stokvel accounts, then return and press enter. \"\n",
    ")\n",
    "\n"
   ]
  },
  {
   "cell_type": "markdown",
   "metadata": {},
   "source": [
    "### check balance?"
   ]
  },
  {
   "cell_type": "code",
   "execution_count": 56,
   "metadata": {},
   "outputs": [
    {
     "name": "stdout",
     "output_type": "stream",
     "text": [
      "Account balance: 4997000 microAlgos\n"
     ]
    }
   ],
   "source": [
    "\n",
    "account_info: Dict[str, Any] = algod_client.account_info(account_2_address)\n",
    "print(f\"Account balance: {account_info.get('amount')} microAlgos\")"
   ]
  },
  {
   "cell_type": "markdown",
   "metadata": {},
   "source": [
    "### Create a multisig stokvel account"
   ]
  },
  {
   "cell_type": "code",
   "execution_count": 48,
   "metadata": {},
   "outputs": [
    {
     "name": "stdout",
     "output_type": "stream",
     "text": [
      "Multisig Address:  PTRPY6WUYEDA4KDLUMEMIQKGVSN7GI3ZPBKGSMSUI6VHFJVTB3MXWCKUDQ\n"
     ]
    }
   ],
   "source": [
    "version   = 1  # multisig version\n",
    "threshold = 4  # required signatures\n",
    "\n",
    "# create a Multisig given the set of participants and threshold\n",
    "msig = transaction.Multisig(\n",
    "    version,\n",
    "    threshold,\n",
    "    [account_1_address, account_2_address, account_3_address, account_4_address, account_5_address]\n",
    ")\n",
    "print(\"Multisig Address: \", msig.address())"
   ]
  },
  {
   "cell_type": "code",
   "execution_count": 54,
   "metadata": {},
   "outputs": [],
   "source": [
    "# create function that enables each member to send 5 Algos in t month \n",
    "def send_five(amount):\n",
    "\n",
    "\n",
    "    msig_address = msig.address()        # the multi sig address \n",
    "    \n",
    "    # create transactions and each member signs their transaction using their private key \n",
    "    params = algod_client.suggested_params() \n",
    "\n",
    "    txn_1 = transaction.PaymentTxn(\n",
    "        sender=account_1_address,\n",
    "        receiver=msig_address,\n",
    "        amt=amount,\n",
    "        sp=params\n",
    "    )\n",
    "\n",
    "    signed_txn_1 = txn_1.sign(account_1_private_key)\n",
    "\n",
    "    txn_2 = transaction.PaymentTxn(\n",
    "        sender=account_2_address,\n",
    "        receiver=msig_address,\n",
    "        amt=amount,\n",
    "        sp=params\n",
    "    )\n",
    "    signed_txn_2 = txn_2.sign(account_2_private_key)\n",
    "\n",
    "\n",
    "    txn_3 = transaction.PaymentTxn(\n",
    "        sender=account_3_address,\n",
    "        receiver=msig_address,\n",
    "        amt=amount,\n",
    "        sp=params\n",
    "    )\n",
    "\n",
    "    signed_txn_3 = txn_3.sign(account_3_private_key)\n",
    "\n",
    "    txn_4 = transaction.PaymentTxn(\n",
    "        sender=account_4_address,\n",
    "        receiver=msig_address,\n",
    "        amt=amount,\n",
    "        sp=params\n",
    "    )\n",
    "\n",
    "    signed_txn_4 = txn_4.sign(account_4_private_key)\n",
    "\n",
    "\n",
    "    txn_5 = transaction.PaymentTxn(\n",
    "        sender=account_5_address,\n",
    "        receiver=msig_address,\n",
    "        amt=amount,\n",
    "        sp=params\n",
    "    )\n",
    "    signed_txn_5 = txn_5.sign(account_5_private_key)\n",
    "\n",
    "    # Send the transactions to the network\n",
    "    txid_1 = algod_client.send_transaction(signed_txn_1)\n",
    "    txid_2 = algod_client.send_transaction(signed_txn_2)\n",
    "    txid_3 = algod_client.send_transaction(signed_txn_3)\n",
    "    txid_4 = algod_client.send_transaction(signed_txn_4)\n",
    "    txid_5 = algod_client.send_transaction(signed_txn_5)\n",
    "\n",
    "    print(f\"Individual Transaction IDs: {txid_1}, {txid_2}, {txid_3},{txid_4}, {txid_5} \")   # Get transaction ID \n",
    "\n",
    "\n",
    "    # Wait for confirmation for each transaction\n",
    "    confirmed_txn_1 = transaction.wait_for_confirmation(algod_client, txid_1)\n",
    "    confirmed_txn_2 = transaction.wait_for_confirmation(algod_client, txid_2)\n",
    "    confirmed_txn_3 = transaction.wait_for_confirmation(algod_client, txid_3)\n",
    "    confirmed_txn_4 = transaction.wait_for_confirmation(algod_client, txid_4)\n",
    "    confirmed_txn_5 = transaction.wait_for_confirmation(algod_client, txid_5)\n",
    "\n",
    "    print(\"Every member has sent 5 Algos to the main stokvel account!\")\n",
    "\n",
    "\n",
    "\n",
    "def send_from_multisig(amount, rcvr):\n",
    "      \n",
    "\n",
    "      # Create the transaction\n",
    "      params      = algod_client.suggested_params()  # Get the suggested parameters (fees, etc.)\n",
    "      payment_txn = transaction.PaymentTxn(\n",
    "            sender  =msig.address(),     # The multisig address\n",
    "            receiver= rcvr,              # The recipient's address\n",
    "            amt     =amount,\n",
    "            sp      =params, \n",
    "            close_remainder_to= rcvr\n",
    "             )\n",
    "      \n",
    "      # Create a multisig transaction object\n",
    "      msig_txn = transaction.MultisigTransaction(payment_txn, msig)\n",
    "      \n",
    "      \n",
    "      # Sign the transaction with the private keys of the signers\n",
    "      msig_txn.sign(account_1_private_key)\n",
    "      msig_txn.sign(account_2_private_key)\n",
    "      msig_txn.sign(account_3_private_key)\n",
    "      msig_txn.sign(account_4_private_key)\n",
    "\n",
    "      # Send the combined signed transaction\n",
    "      txid = algod_client.send_transaction(msig_txn)\n",
    "      print(\"Stokvel Transaction ID:\", txid)\n",
    "      \n",
    "\n",
    "\n"
   ]
  },
  {
   "cell_type": "markdown",
   "metadata": {},
   "source": [
    "### 5 - month cycle of stokvel"
   ]
  },
  {
   "cell_type": "code",
   "execution_count": 57,
   "metadata": {},
   "outputs": [
    {
     "name": "stdout",
     "output_type": "stream",
     "text": [
      "Transaction IDs: HNVYNNE2FGXWEPWWRKOUCRG6ORNKJYMWWAVMUEC6Q7J3ZKGDCMGQ, Z7YYF4RT5XXK6N33HSG3G6SIQEP32OFW5EMUIZBBKHFF4U3U42WA, IV2B6XWDF7KC6VDIP6SRJQ7NHPIRUQYWANHKSJLTBC37MKMR7R2A,CPH5MEBIPMGQ5M4LZJ7MFRF34EVJ3Y5EH2RIUVWMXDFEIYLX4Q4A, RNYWSRNZW43KVIIQOW3JVDNZMVNF3BHGMJUREERDS6ZHTX46GHDQ \n",
      "Every member has sent 5 Algos to the main stokvel account!\n",
      "Stokvel Transaction ID: ZODLRVK4MDZVEFEXKNPUDPBV76P3OT2UEQCYNIZ5Z6ELEJBJYK4Q\n",
      "Month-cyle complete!\n",
      "Transaction IDs: P44SGGPRQWLJSYMSXFH44WC2FNH6FFWK6IUIO26WMPK5CCUDARWA, O6HM6JGFH24T2NTVEUTZNQGJY4D7EYIJJQ6OMPKMEVQPCCQ4EYNA, BE6U64KIKU3HOIKW4MH4EWTCBJYI5WCJIAYKU6GGSHV24FPUX7PA,WWRYSS5QMDZQ6CHGQ26S2EMTG2ZU5L3CI7S3EZ34N7AR6OFWX2ZQ, 76CJU4NCMP7W4WWI7DV5OBISAEW5ABN2VNDJJZOEYRL57LIOMNVQ \n",
      "Every member has sent 5 Algos to the main stokvel account!\n",
      "Stokvel Transaction ID: VSJVMWAPZAXYCDDTT3WJMVMVI6A6FCYP5XGVPXA63IUKDTIJUQBA\n",
      "Month-cyle complete!\n",
      "Transaction IDs: HXSA3O4YUEDG4B3CIIUOZVVA7RCXBMPWQBI2AHK4PEYPJKWTRMOQ, YZZNC3KRLZ5EZQZTFAZY4YRROFFUFOGR4J2P7UHV4KUZUBXRGS5Q, JDEAB7K3CSLTCVO7LCMWYX6IVAD6UKUGCF6SD7K7UHJILER5FWIQ,LHKKJ3BNB2CWTUXSXNKWJ2RET7PWKCXI4OX7KIKQ2ZVBMV7UQ4XQ, JTXES2LFSXSYNEICUUX5PGCX7TEGWU4PZPLDT2JVAUAXN2IKKIIA \n",
      "Every member has sent 5 Algos to the main stokvel account!\n",
      "Stokvel Transaction ID: LVI7ZQZTE4LIDJE3YYD6MM5PUNKNZIE42RPONLYHH2U2QTQO4EWQ\n",
      "Month-cyle complete!\n"
     ]
    },
    {
     "ename": "AlgodHTTPError",
     "evalue": "TransactionPool.Remember: transaction DO4XMRE3WHFMZW3BBQAB567D5PB7J3TGHGYGABNQ5NIYCCBP4KGQ: overspend (account OOJKOHGPST3GMJ7DH6TJ6LXX3GAQPOPUHAKQQ3K2MIDLCAPRICS6YD5TDM, data {AccountBaseData:{Status:Offline MicroAlgos:{Raw:4993000} RewardsBase:27521 RewardedMicroAlgos:{Raw:0} AuthAddr:AAAAAAAAAAAAAAAAAAAAAAAAAAAAAAAAAAAAAAAAAAAAAAAAAAAAY5HFKQ IncentiveEligible:false TotalAppSchema:{_struct:{} NumUint:0 NumByteSlice:0} TotalExtraAppPages:0 TotalAppParams:0 TotalAppLocalStates:0 TotalAssetParams:0 TotalAssets:0 TotalBoxes:0 TotalBoxBytes:0 LastProposed:0 LastHeartbeat:0} VotingData:{VoteID:[0 0 0 0 0 0 0 0 0 0 0 0 0 0 0 0 0 0 0 0 0 0 0 0 0 0 0 0 0 0 0 0] SelectionID:[0 0 0 0 0 0 0 0 0 0 0 0 0 0 0 0 0 0 0 0 0 0 0 0 0 0 0 0 0 0 0 0] StateProofID:[0 0 0 0 0 0 0 0 0 0 0 0 0 0 0 0 0 0 0 0 0 0 0 0 0 0 0 0 0 0 0 0 0 0 0 0 0 0 0 0 0 0 0 0 0 0 0 0 0 0 0 0 0 0 0 0 0 0 0 0 0 0 0 0] VoteFirstValid:0 VoteLastValid:0 VoteKeyDilution:0}}, tried to spend {5000000})",
     "output_type": "error",
     "traceback": [
      "\u001b[1;31m---------------------------------------------------------------------------\u001b[0m",
      "\u001b[1;31mHTTPError\u001b[0m                                 Traceback (most recent call last)",
      "File \u001b[1;32m~\\AppData\\Roaming\\Python\\Python311\\site-packages\\algosdk\\v2client\\algod.py:106\u001b[0m, in \u001b[0;36mAlgodClient.algod_request\u001b[1;34m(self, method, requrl, params, data, headers, response_format, timeout)\u001b[0m\n\u001b[0;32m    105\u001b[0m \u001b[38;5;28;01mtry\u001b[39;00m:\n\u001b[1;32m--> 106\u001b[0m     resp \u001b[38;5;241m=\u001b[39m \u001b[43murlopen\u001b[49m\u001b[43m(\u001b[49m\u001b[43mreq\u001b[49m\u001b[43m,\u001b[49m\u001b[43m \u001b[49m\u001b[43mtimeout\u001b[49m\u001b[38;5;241;43m=\u001b[39;49m\u001b[43mtimeout\u001b[49m\u001b[43m)\u001b[49m\n\u001b[0;32m    107\u001b[0m \u001b[38;5;28;01mexcept\u001b[39;00m urllib\u001b[38;5;241m.\u001b[39merror\u001b[38;5;241m.\u001b[39mHTTPError \u001b[38;5;28;01mas\u001b[39;00m e:\n",
      "File \u001b[1;32mc:\\Program Files\\Python311\\Lib\\urllib\\request.py:216\u001b[0m, in \u001b[0;36murlopen\u001b[1;34m(url, data, timeout, cafile, capath, cadefault, context)\u001b[0m\n\u001b[0;32m    215\u001b[0m     opener \u001b[38;5;241m=\u001b[39m _opener\n\u001b[1;32m--> 216\u001b[0m \u001b[38;5;28;01mreturn\u001b[39;00m \u001b[43mopener\u001b[49m\u001b[38;5;241;43m.\u001b[39;49m\u001b[43mopen\u001b[49m\u001b[43m(\u001b[49m\u001b[43murl\u001b[49m\u001b[43m,\u001b[49m\u001b[43m \u001b[49m\u001b[43mdata\u001b[49m\u001b[43m,\u001b[49m\u001b[43m \u001b[49m\u001b[43mtimeout\u001b[49m\u001b[43m)\u001b[49m\n",
      "File \u001b[1;32mc:\\Program Files\\Python311\\Lib\\urllib\\request.py:525\u001b[0m, in \u001b[0;36mOpenerDirector.open\u001b[1;34m(self, fullurl, data, timeout)\u001b[0m\n\u001b[0;32m    524\u001b[0m     meth \u001b[38;5;241m=\u001b[39m \u001b[38;5;28mgetattr\u001b[39m(processor, meth_name)\n\u001b[1;32m--> 525\u001b[0m     response \u001b[38;5;241m=\u001b[39m \u001b[43mmeth\u001b[49m\u001b[43m(\u001b[49m\u001b[43mreq\u001b[49m\u001b[43m,\u001b[49m\u001b[43m \u001b[49m\u001b[43mresponse\u001b[49m\u001b[43m)\u001b[49m\n\u001b[0;32m    527\u001b[0m \u001b[38;5;28;01mreturn\u001b[39;00m response\n",
      "File \u001b[1;32mc:\\Program Files\\Python311\\Lib\\urllib\\request.py:634\u001b[0m, in \u001b[0;36mHTTPErrorProcessor.http_response\u001b[1;34m(self, request, response)\u001b[0m\n\u001b[0;32m    633\u001b[0m \u001b[38;5;28;01mif\u001b[39;00m \u001b[38;5;129;01mnot\u001b[39;00m (\u001b[38;5;241m200\u001b[39m \u001b[38;5;241m<\u001b[39m\u001b[38;5;241m=\u001b[39m code \u001b[38;5;241m<\u001b[39m \u001b[38;5;241m300\u001b[39m):\n\u001b[1;32m--> 634\u001b[0m     response \u001b[38;5;241m=\u001b[39m \u001b[38;5;28;43mself\u001b[39;49m\u001b[38;5;241;43m.\u001b[39;49m\u001b[43mparent\u001b[49m\u001b[38;5;241;43m.\u001b[39;49m\u001b[43merror\u001b[49m\u001b[43m(\u001b[49m\n\u001b[0;32m    635\u001b[0m \u001b[43m        \u001b[49m\u001b[38;5;124;43m'\u001b[39;49m\u001b[38;5;124;43mhttp\u001b[39;49m\u001b[38;5;124;43m'\u001b[39;49m\u001b[43m,\u001b[49m\u001b[43m \u001b[49m\u001b[43mrequest\u001b[49m\u001b[43m,\u001b[49m\u001b[43m \u001b[49m\u001b[43mresponse\u001b[49m\u001b[43m,\u001b[49m\u001b[43m \u001b[49m\u001b[43mcode\u001b[49m\u001b[43m,\u001b[49m\u001b[43m \u001b[49m\u001b[43mmsg\u001b[49m\u001b[43m,\u001b[49m\u001b[43m \u001b[49m\u001b[43mhdrs\u001b[49m\u001b[43m)\u001b[49m\n\u001b[0;32m    637\u001b[0m \u001b[38;5;28;01mreturn\u001b[39;00m response\n",
      "File \u001b[1;32mc:\\Program Files\\Python311\\Lib\\urllib\\request.py:563\u001b[0m, in \u001b[0;36mOpenerDirector.error\u001b[1;34m(self, proto, *args)\u001b[0m\n\u001b[0;32m    562\u001b[0m args \u001b[38;5;241m=\u001b[39m (\u001b[38;5;28mdict\u001b[39m, \u001b[38;5;124m'\u001b[39m\u001b[38;5;124mdefault\u001b[39m\u001b[38;5;124m'\u001b[39m, \u001b[38;5;124m'\u001b[39m\u001b[38;5;124mhttp_error_default\u001b[39m\u001b[38;5;124m'\u001b[39m) \u001b[38;5;241m+\u001b[39m orig_args\n\u001b[1;32m--> 563\u001b[0m \u001b[38;5;28;01mreturn\u001b[39;00m \u001b[38;5;28;43mself\u001b[39;49m\u001b[38;5;241;43m.\u001b[39;49m\u001b[43m_call_chain\u001b[49m\u001b[43m(\u001b[49m\u001b[38;5;241;43m*\u001b[39;49m\u001b[43margs\u001b[49m\u001b[43m)\u001b[49m\n",
      "File \u001b[1;32mc:\\Program Files\\Python311\\Lib\\urllib\\request.py:496\u001b[0m, in \u001b[0;36mOpenerDirector._call_chain\u001b[1;34m(self, chain, kind, meth_name, *args)\u001b[0m\n\u001b[0;32m    495\u001b[0m func \u001b[38;5;241m=\u001b[39m \u001b[38;5;28mgetattr\u001b[39m(handler, meth_name)\n\u001b[1;32m--> 496\u001b[0m result \u001b[38;5;241m=\u001b[39m \u001b[43mfunc\u001b[49m\u001b[43m(\u001b[49m\u001b[38;5;241;43m*\u001b[39;49m\u001b[43margs\u001b[49m\u001b[43m)\u001b[49m\n\u001b[0;32m    497\u001b[0m \u001b[38;5;28;01mif\u001b[39;00m result \u001b[38;5;129;01mis\u001b[39;00m \u001b[38;5;129;01mnot\u001b[39;00m \u001b[38;5;28;01mNone\u001b[39;00m:\n",
      "File \u001b[1;32mc:\\Program Files\\Python311\\Lib\\urllib\\request.py:643\u001b[0m, in \u001b[0;36mHTTPDefaultErrorHandler.http_error_default\u001b[1;34m(self, req, fp, code, msg, hdrs)\u001b[0m\n\u001b[0;32m    642\u001b[0m \u001b[38;5;28;01mdef\u001b[39;00m \u001b[38;5;21mhttp_error_default\u001b[39m(\u001b[38;5;28mself\u001b[39m, req, fp, code, msg, hdrs):\n\u001b[1;32m--> 643\u001b[0m     \u001b[38;5;28;01mraise\u001b[39;00m HTTPError(req\u001b[38;5;241m.\u001b[39mfull_url, code, msg, hdrs, fp)\n",
      "\u001b[1;31mHTTPError\u001b[0m: HTTP Error 400: Bad Request",
      "\nDuring handling of the above exception, another exception occurred:\n",
      "\u001b[1;31mAlgodHTTPError\u001b[0m                            Traceback (most recent call last)",
      "Cell \u001b[1;32mIn[57], line 11\u001b[0m\n\u001b[0;32m      2\u001b[0m accounts \u001b[38;5;241m=\u001b[39m [\n\u001b[0;32m      3\u001b[0m            account_1_address, \n\u001b[0;32m      4\u001b[0m            account_2_address, \n\u001b[1;32m   (...)\u001b[0m\n\u001b[0;32m      7\u001b[0m            account_5_address\n\u001b[0;32m      8\u001b[0m       ]\n\u001b[0;32m      9\u001b[0m \u001b[38;5;28;01mwhile\u001b[39;00m i \u001b[38;5;241m<\u001b[39m \u001b[38;5;241m6\u001b[39m:\n\u001b[0;32m     10\u001b[0m     \u001b[38;5;66;03m# everyone sends 5 algos to the stokvel account on day t\u001b[39;00m\n\u001b[1;32m---> 11\u001b[0m     \u001b[43msend_five\u001b[49m\u001b[43m(\u001b[49m\u001b[43mamount\u001b[49m\u001b[43m \u001b[49m\u001b[38;5;241;43m=\u001b[39;49m\u001b[43m \u001b[49m\u001b[38;5;241;43m5000000\u001b[39;49m\u001b[43m)\u001b[49m\n\u001b[0;32m     13\u001b[0m     \u001b[38;5;66;03m# on day t + 1, select a recipient randomly and send them  60% of the pooled funds \u001b[39;00m\n\u001b[0;32m     14\u001b[0m     recipient_address  \u001b[38;5;241m=\u001b[39m random\u001b[38;5;241m.\u001b[39mchoice(accounts)\n",
      "Cell \u001b[1;32mIn[54], line 56\u001b[0m, in \u001b[0;36msend_five\u001b[1;34m(amount)\u001b[0m\n\u001b[0;32m     53\u001b[0m signed_txn_5 \u001b[38;5;241m=\u001b[39m txn_5\u001b[38;5;241m.\u001b[39msign(account_5_private_key)\n\u001b[0;32m     55\u001b[0m \u001b[38;5;66;03m# Send the transactions to the network\u001b[39;00m\n\u001b[1;32m---> 56\u001b[0m txid_1 \u001b[38;5;241m=\u001b[39m \u001b[43malgod_client\u001b[49m\u001b[38;5;241;43m.\u001b[39;49m\u001b[43msend_transaction\u001b[49m\u001b[43m(\u001b[49m\u001b[43msigned_txn_1\u001b[49m\u001b[43m)\u001b[49m\n\u001b[0;32m     57\u001b[0m txid_2 \u001b[38;5;241m=\u001b[39m algod_client\u001b[38;5;241m.\u001b[39msend_transaction(signed_txn_2)\n\u001b[0;32m     58\u001b[0m txid_3 \u001b[38;5;241m=\u001b[39m algod_client\u001b[38;5;241m.\u001b[39msend_transaction(signed_txn_3)\n",
      "File \u001b[1;32m~\\AppData\\Roaming\\Python\\Python311\\site-packages\\algosdk\\v2client\\algod.py:336\u001b[0m, in \u001b[0;36mAlgodClient.send_transaction\u001b[1;34m(self, txn, **kwargs)\u001b[0m\n\u001b[0;32m    323\u001b[0m \u001b[38;5;124;03m\"\"\"\u001b[39;00m\n\u001b[0;32m    324\u001b[0m \u001b[38;5;124;03mBroadcast a signed transaction object to the network.\u001b[39;00m\n\u001b[0;32m    325\u001b[0m \n\u001b[1;32m   (...)\u001b[0m\n\u001b[0;32m    331\u001b[0m \u001b[38;5;124;03m    str: transaction ID\u001b[39;00m\n\u001b[0;32m    332\u001b[0m \u001b[38;5;124;03m\"\"\"\u001b[39;00m\n\u001b[0;32m    333\u001b[0m \u001b[38;5;28;01massert\u001b[39;00m \u001b[38;5;129;01mnot\u001b[39;00m \u001b[38;5;28misinstance\u001b[39m(\n\u001b[0;32m    334\u001b[0m     txn, transaction\u001b[38;5;241m.\u001b[39mTransaction\n\u001b[0;32m    335\u001b[0m ), \u001b[38;5;124m\"\u001b[39m\u001b[38;5;124mAttempt to send UNSUPPORTED type of transaction \u001b[39m\u001b[38;5;132;01m{}\u001b[39;00m\u001b[38;5;124m\"\u001b[39m\u001b[38;5;241m.\u001b[39mformat(txn)\n\u001b[1;32m--> 336\u001b[0m \u001b[38;5;28;01mreturn\u001b[39;00m \u001b[38;5;28;43mself\u001b[39;49m\u001b[38;5;241;43m.\u001b[39;49m\u001b[43msend_raw_transaction\u001b[49m\u001b[43m(\u001b[49m\n\u001b[0;32m    337\u001b[0m \u001b[43m    \u001b[49m\u001b[43mencoding\u001b[49m\u001b[38;5;241;43m.\u001b[39;49m\u001b[43mmsgpack_encode\u001b[49m\u001b[43m(\u001b[49m\u001b[43mtxn\u001b[49m\u001b[43m)\u001b[49m\u001b[43m,\u001b[49m\u001b[43m \u001b[49m\u001b[38;5;241;43m*\u001b[39;49m\u001b[38;5;241;43m*\u001b[39;49m\u001b[43mkwargs\u001b[49m\n\u001b[0;32m    338\u001b[0m \u001b[43m\u001b[49m\u001b[43m)\u001b[49m\n",
      "File \u001b[1;32m~\\AppData\\Roaming\\Python\\Python311\\site-packages\\algosdk\\v2client\\algod.py:363\u001b[0m, in \u001b[0;36mAlgodClient.send_raw_transaction\u001b[1;34m(self, txn, **kwargs)\u001b[0m\n\u001b[0;32m    357\u001b[0m headers \u001b[38;5;241m=\u001b[39m util\u001b[38;5;241m.\u001b[39mbuild_headers_from(\n\u001b[0;32m    358\u001b[0m     kwargs\u001b[38;5;241m.\u001b[39mget(\u001b[38;5;124m\"\u001b[39m\u001b[38;5;124mheaders\u001b[39m\u001b[38;5;124m\"\u001b[39m, \u001b[38;5;28;01mFalse\u001b[39;00m),\n\u001b[0;32m    359\u001b[0m     {\u001b[38;5;124m\"\u001b[39m\u001b[38;5;124mContent-Type\u001b[39m\u001b[38;5;124m\"\u001b[39m: \u001b[38;5;124m\"\u001b[39m\u001b[38;5;124mapplication/x-binary\u001b[39m\u001b[38;5;124m\"\u001b[39m},\n\u001b[0;32m    360\u001b[0m )\n\u001b[0;32m    361\u001b[0m kwargs[\u001b[38;5;124m\"\u001b[39m\u001b[38;5;124mheaders\u001b[39m\u001b[38;5;124m\"\u001b[39m] \u001b[38;5;241m=\u001b[39m headers\n\u001b[1;32m--> 363\u001b[0m resp \u001b[38;5;241m=\u001b[39m \u001b[38;5;28;43mself\u001b[39;49m\u001b[38;5;241;43m.\u001b[39;49m\u001b[43malgod_request\u001b[49m\u001b[43m(\u001b[49m\u001b[38;5;124;43m\"\u001b[39;49m\u001b[38;5;124;43mPOST\u001b[39;49m\u001b[38;5;124;43m\"\u001b[39;49m\u001b[43m,\u001b[49m\u001b[43m \u001b[49m\u001b[43mreq\u001b[49m\u001b[43m,\u001b[49m\u001b[43m \u001b[49m\u001b[43mdata\u001b[49m\u001b[38;5;241;43m=\u001b[39;49m\u001b[43mtxn_bytes\u001b[49m\u001b[43m,\u001b[49m\u001b[43m \u001b[49m\u001b[38;5;241;43m*\u001b[39;49m\u001b[38;5;241;43m*\u001b[39;49m\u001b[43mkwargs\u001b[49m\u001b[43m)\u001b[49m\n\u001b[0;32m    364\u001b[0m \u001b[38;5;28;01mreturn\u001b[39;00m cast(\u001b[38;5;28mstr\u001b[39m, cast(\u001b[38;5;28mdict\u001b[39m, resp)[\u001b[38;5;124m\"\u001b[39m\u001b[38;5;124mtxId\u001b[39m\u001b[38;5;124m\"\u001b[39m])\n",
      "File \u001b[1;32m~\\AppData\\Roaming\\Python\\Python311\\site-packages\\algosdk\\v2client\\algod.py:116\u001b[0m, in \u001b[0;36mAlgodClient.algod_request\u001b[1;34m(self, method, requrl, params, data, headers, response_format, timeout)\u001b[0m\n\u001b[0;32m    114\u001b[0m         m \u001b[38;5;241m=\u001b[39m j[\u001b[38;5;124m\"\u001b[39m\u001b[38;5;124mmessage\u001b[39m\u001b[38;5;124m\"\u001b[39m]\n\u001b[0;32m    115\u001b[0m     \u001b[38;5;28;01mfinally\u001b[39;00m:\n\u001b[1;32m--> 116\u001b[0m         \u001b[38;5;28;01mraise\u001b[39;00m error\u001b[38;5;241m.\u001b[39mAlgodHTTPError(m, code, j\u001b[38;5;241m.\u001b[39mget(\u001b[38;5;124m\"\u001b[39m\u001b[38;5;124mdata\u001b[39m\u001b[38;5;124m\"\u001b[39m))\n\u001b[0;32m    117\u001b[0m \u001b[38;5;28;01mif\u001b[39;00m response_format \u001b[38;5;241m==\u001b[39m \u001b[38;5;124m\"\u001b[39m\u001b[38;5;124mjson\u001b[39m\u001b[38;5;124m\"\u001b[39m:\n\u001b[0;32m    118\u001b[0m     \u001b[38;5;28;01mtry\u001b[39;00m:\n",
      "\u001b[1;31mAlgodHTTPError\u001b[0m: TransactionPool.Remember: transaction DO4XMRE3WHFMZW3BBQAB567D5PB7J3TGHGYGABNQ5NIYCCBP4KGQ: overspend (account OOJKOHGPST3GMJ7DH6TJ6LXX3GAQPOPUHAKQQ3K2MIDLCAPRICS6YD5TDM, data {AccountBaseData:{Status:Offline MicroAlgos:{Raw:4993000} RewardsBase:27521 RewardedMicroAlgos:{Raw:0} AuthAddr:AAAAAAAAAAAAAAAAAAAAAAAAAAAAAAAAAAAAAAAAAAAAAAAAAAAAY5HFKQ IncentiveEligible:false TotalAppSchema:{_struct:{} NumUint:0 NumByteSlice:0} TotalExtraAppPages:0 TotalAppParams:0 TotalAppLocalStates:0 TotalAssetParams:0 TotalAssets:0 TotalBoxes:0 TotalBoxBytes:0 LastProposed:0 LastHeartbeat:0} VotingData:{VoteID:[0 0 0 0 0 0 0 0 0 0 0 0 0 0 0 0 0 0 0 0 0 0 0 0 0 0 0 0 0 0 0 0] SelectionID:[0 0 0 0 0 0 0 0 0 0 0 0 0 0 0 0 0 0 0 0 0 0 0 0 0 0 0 0 0 0 0 0] StateProofID:[0 0 0 0 0 0 0 0 0 0 0 0 0 0 0 0 0 0 0 0 0 0 0 0 0 0 0 0 0 0 0 0 0 0 0 0 0 0 0 0 0 0 0 0 0 0 0 0 0 0 0 0 0 0 0 0 0 0 0 0 0 0 0 0] VoteFirstValid:0 VoteLastValid:0 VoteKeyDilution:0}}, tried to spend {5000000})"
     ]
    }
   ],
   "source": [
    "i = 1\n",
    "accounts = [\n",
    "           account_1_address, \n",
    "           account_2_address, \n",
    "           account_3_address, \n",
    "           account_4_address, \n",
    "           account_5_address\n",
    "      ]\n",
    "while i < 6:\n",
    "    # everyone sends 5 algos to the stokvel account on day t\n",
    "    send_five(amount = 5000000)\n",
    "\n",
    "    # on day t + 1, select a recipient randomly and send them  60% of the pooled funds \n",
    "    recipient_address  = random.choice(accounts)\n",
    "    send_from_multisig(amount = 15000000, rcvr = recipient_address)\n",
    "\n",
    "    print(f\"Month-cyle {i} is complete!\")   # Get transaction ID \n",
    "    print(\"\")\n",
    "    # month iterator \n",
    "    i = i + 1"
   ]
  }
 ],
 "metadata": {
  "kernelspec": {
   "display_name": "Python 3",
   "language": "python",
   "name": "python3"
  },
  "language_info": {
   "codemirror_mode": {
    "name": "ipython",
    "version": 3
   },
   "file_extension": ".py",
   "mimetype": "text/x-python",
   "name": "python",
   "nbconvert_exporter": "python",
   "pygments_lexer": "ipython3",
   "version": "3.11.1"
  }
 },
 "nbformat": 4,
 "nbformat_minor": 2
}
